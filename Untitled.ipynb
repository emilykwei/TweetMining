{
 "cells": [
  {
   "cell_type": "code",
   "execution_count": 27,
   "id": "1bdc7427",
   "metadata": {},
   "outputs": [],
   "source": [
    "import re\n",
    "import json\n",
    "from collections import defaultdict\n",
    "from helpers import merge\n",
    "\n",
    "# Initialize a dictionary to store the counts of each pattern\n",
    "pattern_counts = defaultdict(int)\n",
    "\n",
    "def clean_text(text):\n",
    "    # Convert text to lowercase\n",
    "    text = text.lower()\n",
    "    # Remove punctuation\n",
    "    text = re.sub(r'[^\\w\\s]', '', text)\n",
    "    # Replace multiple consecutive whitespaces with a single space\n",
    "    text = re.sub(r'\\s+', ' ', text).strip()\n",
    "    return text\n",
    "\n",
    "def find_and_count_patterns(text):\n",
    "    text = clean_text(text)\n",
    "    \n",
    "    patterns = [\n",
    "        r'\\bbest\\b.*?\\b(picture|drama|musical|film)\\b',\n",
    "        r'\\bbest (tv|television)\\b.*?\\b(drama|musical)\\b',\n",
    "        r'\\bcecil.*?\\baward\\b',\n",
    "        r'\\bbest performance by\\b.*?\\b(musical|picture|tv|television|drama)\\b'\n",
    "    ]\n",
    "    \n",
    "    matches = []\n",
    "    for pattern in patterns:\n",
    "        for match in re.finditer(pattern, text):\n",
    "            match_text = match.group(0)\n",
    "            pattern_counts[match_text] += 1\n",
    "            matches.append((match_text, pattern_counts[match_text]))\n",
    "            \n",
    "    return matches\n",
    "\n",
    "def find_categories(text, retweet):\n",
    "    patterns = [\n",
    "        r'\\bbest\\b.*?\\b(picture|drama|musical|film)\\b',\n",
    "        r'\\bbest (tv|television)\\b.*?\\b(drama|musical)\\b',\n",
    "        r'\\bcecil.*?\\baward\\b',\n",
    "        r'\\bbest performance by\\b.*?\\b(musical|picture|tv|television|drama)\\b'\n",
    "    ]\n",
    "\n",
    "    matches_dict = {}\n",
    "    \n",
    "    for t in text:\n",
    "        t = clean_text(t)\n",
    "    \n",
    "        for pattern in patterns:\n",
    "            for match in re.finditer(pattern, t):\n",
    "                match_text = match.group(0)\n",
    "                pattern_counts[match_text] += 1\n",
    "                matches_dict[match_text] = pattern_counts[match_text]\n",
    "\n",
    "    for rt in retweet:\n",
    "        rt = clean_text(rt)    \n",
    "\n",
    "        for pattern in patterns:\n",
    "            for match in re.finditer(pattern, rt):\n",
    "                match_text = match.group(0)\n",
    "                pattern_counts[match_text] += 2\n",
    "                matches_dict[match_text] = pattern_counts[match_text]\n",
    "    \n",
    "    categories_counter = merge.merge(matches_dict)\n",
    "    \n",
    "    x = 15\n",
    "\n",
    "    # Initialize an empty list to store categories\n",
    "    categories = []\n",
    "\n",
    "    # Loop through the Counter object\n",
    "    for category, count in categories_counter.items():\n",
    "        if count > x:\n",
    "            categories.append(category)\n",
    "\n",
    "    answer = {\"hosts\": categories}\n",
    "\n",
    "    with open(\"categories.json\", 'w') as f:\n",
    "        # Dump the dictionary to the file\n",
    "        json.dump(answer, f)\n",
    "    \n",
    "    return categories"
   ]
  },
  {
   "cell_type": "code",
   "execution_count": 28,
   "id": "514aa3c3",
   "metadata": {},
   "outputs": [],
   "source": [
    "with open(\"text.json\", \"r\") as file:\n",
    "        text = json.load(file)\n",
    "\n",
    "with open(\"retweet.json\", \"r\") as file:\n",
    "        retweet = json.load(file)"
   ]
  },
  {
   "cell_type": "code",
   "execution_count": 29,
   "id": "255bea29",
   "metadata": {},
   "outputs": [],
   "source": [
    "c = find_categories(text, retweet)"
   ]
  },
  {
   "cell_type": "code",
   "execution_count": 30,
   "id": "3f39d6ee",
   "metadata": {},
   "outputs": [
    {
     "name": "stdout",
     "output_type": "stream",
     "text": [
      "['best motion picture', 'best actress in a tv series drama', 'best picture', 'best actress drama', 'best drama', 'cecil b de mille award', 'best animated feature film', 'best original score motion picture', 'best supporting actress in a motion picture', 'best screenplay motion picture', 'best foreign film', 'best foreign language film', 'best actor in a motion picture', 'best actress in a drama', 'best film', 'best animated film', 'best actress in a comedy or musical', 'best tv series comedy or musical', 'best comedy or musical', 'best tv series drama', 'best actress in a motion picture', 'best actor drama', 'best director motion picture', 'best tv drama', 'best supporting actor motion picture', 'best actor in a drama']\n"
     ]
    }
   ],
   "source": [
    "print(c)"
   ]
  },
  {
   "cell_type": "code",
   "execution_count": 31,
   "id": "26ed7f8d",
   "metadata": {},
   "outputs": [
    {
     "name": "stdout",
     "output_type": "stream",
     "text": [
      "26\n"
     ]
    }
   ],
   "source": [
    "print(len(c))"
   ]
  },
  {
   "cell_type": "code",
   "execution_count": null,
   "id": "c624050e",
   "metadata": {},
   "outputs": [],
   "source": []
  }
 ],
 "metadata": {
  "kernelspec": {
   "display_name": "Python 3 (ipykernel)",
   "language": "python",
   "name": "python3"
  },
  "language_info": {
   "codemirror_mode": {
    "name": "ipython",
    "version": 3
   },
   "file_extension": ".py",
   "mimetype": "text/x-python",
   "name": "python",
   "nbconvert_exporter": "python",
   "pygments_lexer": "ipython3",
   "version": "3.11.4"
  }
 },
 "nbformat": 4,
 "nbformat_minor": 5
}
